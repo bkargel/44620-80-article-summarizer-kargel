{
 "cells": [
  {
   "cell_type": "markdown",
   "metadata": {},
   "source": [
    "# Web Mining and Applied NLP (44-620)\n",
    "\n",
    "## Final Project: Article Summarizer\n",
    "\n",
    "### Student Name: Brendi Kargel\n",
    "\n",
    "https://github.com/bkargel/44620-80-article-summarizer-kargel\n",
    "\n",
    "Perform the tasks described in the Markdown cells below.  When you have completed the assignment make sure your code cells have all been run (and have output beneath them) and ensure you have committed and pushed ALL of your changes to your assignment repository.\n",
    "\n",
    "You should bring in code from previous assignments to help you answer the questions below.\n",
    "\n",
    "Every question that requires you to write code will have a code cell underneath it; you may either write your entire solution in that cell or write it in a python file (`.py`), then import and run the appropriate code to answer the question."
   ]
  },
  {
   "cell_type": "markdown",
   "metadata": {},
   "source": [
    "# Question 1"
   ]
  },
  {
   "cell_type": "markdown",
   "metadata": {},
   "source": [
    "1. Find on the internet an article or blog post about a topic that interests you and you are able to get the text for using the technologies we have applied in the course.  Get the html for the article and store it in a file (which you must submit with your project)"
   ]
  },
  {
   "cell_type": "code",
   "execution_count": 1,
   "metadata": {},
   "outputs": [],
   "source": [
    "from bs4 import BeautifulSoup\n",
    "import requests\n",
    "import pickle\n",
    "\n",
    "article_page = requests.get('https://www.history.com/topics/christmas/history-of-christmas')\n",
    "article_html = article_page.text\n",
    "\n",
    "with open('python-match.pkl', 'wb') as f:\n",
    "    pickle.dump(article_page.text, f)"
   ]
  },
  {
   "cell_type": "markdown",
   "metadata": {},
   "source": [
    "# Question 2"
   ]
  },
  {
   "cell_type": "markdown",
   "metadata": {},
   "source": [
    "2. Read in your article's html source from the file you created in question 1 and do sentiment analysis on the article/post's text (use `.get_text()`).  Print the polarity score with an appropriate label.  Additionally print the number of sentences in the original article (with an appropriate label)"
   ]
  },
  {
   "cell_type": "code",
   "execution_count": 2,
   "metadata": {},
   "outputs": [
    {
     "name": "stdout",
     "output_type": "stream",
     "text": [
      "Polarity:  0.17163110366336176\n",
      "Sentence Count:  86\n"
     ]
    }
   ],
   "source": [
    "import spacy\n",
    "from spacytextblob.spacytextblob import SpacyTextBlob\n",
    "\n",
    "with open('python-match.pkl', 'rb') as f:\n",
    "    article_html = pickle.load(f)\n",
    "\n",
    "parser = 'html.parser'\n",
    "soup = BeautifulSoup(article_html, parser)\n",
    "article_element = soup.find('article')\n",
    "nlp = spacy.load('en_core_web_sm')\n",
    "nlp.add_pipe(\"spacytextblob\")\n",
    "doc = nlp(article_element.get_text())\n",
    "sentences = list(doc.sents)\n",
    "\n",
    "print(\"Polarity: \", doc._.blob.polarity)\n",
    "print(\"Sentence Count: \", len(sentences))"
   ]
  },
  {
   "cell_type": "markdown",
   "metadata": {},
   "source": [
    "# Question 3"
   ]
  },
  {
   "cell_type": "markdown",
   "metadata": {},
   "source": [
    "3. Load the article text into a trained `spaCy` pipeline, and determine the 5 most frequent tokens (converted to lower case).  Print the common tokens with an appropriate label.  Additionally, print the tokens their frequencies (with appropriate labels)"
   ]
  },
  {
   "cell_type": "code",
   "execution_count": 3,
   "metadata": {},
   "outputs": [
    {
     "name": "stdout",
     "output_type": "stream",
     "text": [
      "The article's 5 most common tokens and their frequencies are: [('christmas', 55), ('holiday', 20), ('celebrated', 12), ('winter', 11), ('time', 10)]\n"
     ]
    }
   ],
   "source": [
    "from collections import Counter\n",
    "\n",
    "def we_care_about(token):\n",
    "    return not (token.is_space or token.is_punct or token.is_stop)\n",
    "\n",
    "interesting_tokens = [token.lower_ for token in doc if we_care_about(token)]\n",
    "word_freq = Counter(map(str,interesting_tokens))\n",
    "print(\"The article's 5 most common tokens and their frequencies are:\", word_freq.most_common(5))"
   ]
  },
  {
   "cell_type": "markdown",
   "metadata": {},
   "source": [
    "# Question 4"
   ]
  },
  {
   "cell_type": "markdown",
   "metadata": {},
   "source": [
    "4. Load the article text into a trained `spaCy` pipeline, and determine the 5 most frequent lemmas (converted to lower case).  Print the common lemmas with an appropriate label.  Additionally, print the lemmas with their frequencies (with appropriate labels)."
   ]
  },
  {
   "cell_type": "code",
   "execution_count": 4,
   "metadata": {},
   "outputs": [
    {
     "name": "stdout",
     "output_type": "stream",
     "text": [
      "The article's 5 most common lemmas and their frequencies are: [('christmas', 55), ('holiday', 20), ('celebrate', 15), ('winter', 12), ('day', 11)]\n"
     ]
    }
   ],
   "source": [
    "interesting_lemmas = [token.lemma_.lower() for token in doc if we_care_about(token)]\n",
    "lemma_freq = Counter(interesting_lemmas)\n",
    "print(\"The article's 5 most common lemmas and their frequencies are:\",lemma_freq.most_common(5))"
   ]
  },
  {
   "cell_type": "markdown",
   "metadata": {},
   "source": [
    "# Question 5"
   ]
  },
  {
   "cell_type": "markdown",
   "metadata": {},
   "source": [
    "5. Make a list containing the scores (using tokens) of every sentence in the article, and plot a histogram with appropriate titles and axis labels of the scores. From your histogram, what seems to be the most common range of scores (put the answer in a comment after your code)?"
   ]
  },
  {
   "cell_type": "code",
   "execution_count": 5,
   "metadata": {},
   "outputs": [
    {
     "data": {
      "image/png": "[encoded data removed]",
      "text/plain": [
       "<Figure size 432x288 with 1 Axes>"
      ]
     },
     "metadata": {
      "needs_background": "light"
     },
     "output_type": "display_data"
    }
   ],
   "source": [
    "import matplotlib.pyplot as plt\n",
    "import numpy as np\n",
    "\n",
    "interesting_token = list()\n",
    "for token, freq in word_freq.most_common(5):\n",
    "    interesting_token.append(token)\n",
    "\n",
    "sentences = list(doc.sents)\n",
    "token_count = list()\n",
    "word_count = list()\n",
    "whole_sents = list()\n",
    "token_scores = list()\n",
    "for sentence in sentences:\n",
    "    tcount = 0\n",
    "    wcount = 0\n",
    "    sent_str = str(sentence).replace('\\n','').replace('  ',' ')\n",
    "    whole_sents.append(sent_str)\n",
    "    for token in sentence:\n",
    "        if not (token.is_space or token.is_punct or token.is_stop):\n",
    "            wcount += 1\n",
    "        if token.text.lower() in interesting_token:\n",
    "            tcount +=1\n",
    "    token_count.append(tcount)\n",
    "    word_count.append(wcount)\n",
    "\n",
    "    token_scores = [i / j for i, j in zip(token_count,word_count)]\n",
    "    \n",
    "#uncomment to view results\n",
    "#print(token_count)\n",
    "#print(word_count)\n",
    "#print(token_scores)\n",
    "\n",
    "xt = np.array(token_scores)  \n",
    "plt.hist(xt)\n",
    "plt.xlabel('Scores')\n",
    "plt.ylabel('Frequency')\n",
    "plt.title('TOKENS FREQUENCY')\n",
    "plt.show()\n",
    "\n",
    "# The most common token scores are between 0.0 and 0.1, with the vast majority falling between 0.0 and 0.25."
   ]
  },
  {
   "cell_type": "markdown",
   "metadata": {},
   "source": [
    "# Question 6"
   ]
  },
  {
   "cell_type": "markdown",
   "metadata": {},
   "source": [
    "6. Make a list containing the scores (using lemmas) of every sentence in the article, and plot a histogram with appropriate titles and axis labels of the scores.  From your histogram, what seems to be the most common range of scores (put the answer in a comment after your code)?"
   ]
  },
  {
   "cell_type": "code",
   "execution_count": 6,
   "metadata": {},
   "outputs": [
    {
     "data": {
      "image/png": "[encoded data removed]",
      "text/plain": [
       "<Figure size 432x288 with 1 Axes>"
      ]
     },
     "metadata": {
      "needs_background": "light"
     },
     "output_type": "display_data"
    }
   ],
   "source": [
    "import matplotlib.pyplot as plt\n",
    "import numpy as np\n",
    "\n",
    "interesting_lemmas = set()\n",
    "for lemma, freq in lemma_freq.most_common(5):\n",
    "    interesting_lemmas.add(lemma)\n",
    "\n",
    "sentences = list(doc.sents)\n",
    "lemma_count = list()\n",
    "word_count = list()\n",
    "whole_sents = list()\n",
    "lemma_scores = list()\n",
    "for sentence in sentences:\n",
    "    lcount = 0\n",
    "    wcount = 0\n",
    "    sent_str = str(sentence).replace('\\n','').replace('  ',' ')\n",
    "    whole_sents.append(sent_str)\n",
    "    for token in sentence:\n",
    "        if not (token.is_space or token.is_punct or token.is_stop):\n",
    "            wcount += 1\n",
    "        if token.lemma_.lower() in interesting_lemmas:\n",
    "            lcount +=1\n",
    "    lemma_count.append(lcount)\n",
    "    word_count.append(wcount)\n",
    "    \n",
    "lemma_scores = [i / j for i, j in zip(lemma_count,word_count)]\n",
    "\n",
    "#uncomment to view results\n",
    "#print(lemma_count)\n",
    "#print(word_count)\n",
    "#print(lemma_scores)\n",
    "#print(whole_sents)\n",
    "\n",
    "xl = np.array(lemma_scores)  \n",
    "plt.hist(xl)\n",
    "plt.xlabel('Scores')\n",
    "plt.ylabel('Frequency')\n",
    "plt.title('LEMMAS FREQUENCY')\n",
    "plt.show()\n",
    "\n",
    "# The most common range of lemma scores is between 0.0 and 0.1, with the vast majority falling between 0.0 and 0.25."
   ]
  },
  {
   "cell_type": "markdown",
   "metadata": {},
   "source": [
    "# Question 7"
   ]
  },
  {
   "cell_type": "markdown",
   "metadata": {},
   "source": [
    "7. Using the histograms from questions 5 and 6, decide a \"cutoff\" score for tokens and lemmas such that fewer than half the sentences would have a score greater than the cutoff score.  Record the scores in this Markdown cell\n",
    "\n",
    "* Cutoff Score (tokens): 0.21\n",
    "* Cutoff Score (lemmas): 0.23\n",
    "\n",
    "Feel free to change these scores as you generate your summaries.  Ideally, we're shooting for at least 6 sentences for our summary, but don't want more than 10 (these numbers are rough estimates; they depend on the length of your article)."
   ]
  },
  {
   "cell_type": "markdown",
   "metadata": {},
   "source": [
    "# Question 8"
   ]
  },
  {
   "cell_type": "markdown",
   "metadata": {},
   "source": [
    "8. Create a summary of the article by going through every sentence in the article and adding it to an (initially) empty list if its score (based on tokens) is greater than the cutoff score you identified in question 8.  If your loop variable is named `sent`, you may find it easier to add `sent.text.strip()` to your list of sentences.  Print the summary (I would cleanly generate the summary text by `join`ing the strings in your list together with a space (`' '.join(sentence_list)`)."
   ]
  },
  {
   "cell_type": "code",
   "execution_count": 7,
   "metadata": {},
   "outputs": [
    {
     "name": "stdout",
     "output_type": "stream",
     "text": [
      "[0.2222222222222222, 0.2857142857142857, 0.2222222222222222, 0.3333333333333333, 0.2222222222222222, 1.0, 0.2777777777777778, 0.23076923076923078, 0.4, 1.0]\n",
      "\n"
     ]
    }
   ],
   "source": [
    "cutoff = 0.22\n",
    "token_summary = list()\n",
    "\n",
    "tsum_scores = [x for x in token_scores if x >= cutoff]\n",
    "\n",
    "for sentence in sentences:\n",
    "    if tsum_scores in token_scores:\n",
    "        sent_str = str(sentence).replace('\\n','').replace('  ',' ')\n",
    "        token_summary.append(sent_str)\n",
    "\n",
    "print(tsum_scores)\n",
    "print(' '.join(token_summary))"
   ]
  },
  {
   "cell_type": "markdown",
   "metadata": {},
   "source": [
    "# Question 9"
   ]
  },
  {
   "cell_type": "markdown",
   "metadata": {},
   "source": [
    "9. Print the polarity score of your summary you generated with the token scores (with an appropriate label). Additionally, print the number of sentences in the summarized article."
   ]
  },
  {
   "cell_type": "code",
   "execution_count": 8,
   "metadata": {},
   "outputs": [
    {
     "name": "stdout",
     "output_type": "stream",
     "text": [
      "Polarity:  0.0\n",
      "Sentence Count:  86\n"
     ]
    }
   ],
   "source": [
    "doc = nlp(' '.join(token_summary))\n",
    "print(\"Polarity: \", doc._.blob.polarity)\n",
    "print(\"Sentence Count: \", len(sentences))"
   ]
  },
  {
   "cell_type": "markdown",
   "metadata": {},
   "source": [
    "# Question 10"
   ]
  },
  {
   "cell_type": "markdown",
   "metadata": {},
   "source": [
    "10. Create a summary of the article by going through every sentence in the article and adding it to an (initially) empty list if its score (based on lemmas) is greater than the cutoff score you identified in question 8.  If your loop variable is named `sent`, you may find it easier to add `sent.text.strip()` to your list of sentences.  Print the summary (I would cleanly generate the summary text by `join`ing the strings in your list together with a space (`' '.join(sentence_list)`)."
   ]
  },
  {
   "cell_type": "code",
   "execution_count": 9,
   "metadata": {},
   "outputs": [
    {
     "name": "stdout",
     "output_type": "stream",
     "text": [
      "[0.25925925925925924, 0.2857142857142857, 0.23076923076923078, 0.23076923076923078, 0.2857142857142857, 1.0, 0.25, 0.23076923076923078, 0.4, 0.25, 1.0]\n",
      "\n"
     ]
    }
   ],
   "source": [
    "cutoff = 0.23\n",
    "lemma_summary = list()\n",
    "\n",
    "lsum_scores = [x for x in lemma_scores if x >= cutoff]\n",
    "\n",
    "for sentence in sentences:\n",
    "    if lemma_scores in lsum_scores:\n",
    "        sent_str = str(sentence).replace('\\n','').replace('  ',' ')\n",
    "        lemma_summary.append(sent_str)\n",
    "\n",
    "print(lsum_scores)\n",
    "print(' '.join(lemma_summary))"
   ]
  },
  {
   "cell_type": "markdown",
   "metadata": {},
   "source": [
    "# Question 11"
   ]
  },
  {
   "cell_type": "markdown",
   "metadata": {},
   "source": [
    "11. Print the polarity score of your summary you generated with the lemma scores (with an appropriate label). Additionally, print the number of sentences in the summarized article."
   ]
  },
  {
   "cell_type": "code",
   "execution_count": 10,
   "metadata": {},
   "outputs": [
    {
     "name": "stdout",
     "output_type": "stream",
     "text": [
      "Polarity:  0.0\n",
      "Sentence Count:  86\n"
     ]
    }
   ],
   "source": [
    "doc = nlp(' '.join(lemma_summary))\n",
    "print(\"Polarity: \", doc._.blob.polarity)\n",
    "print(\"Sentence Count: \", len(sentences))"
   ]
  },
  {
   "cell_type": "markdown",
   "metadata": {},
   "source": [
    "# Question 12"
   ]
  },
  {
   "cell_type": "markdown",
   "metadata": {},
   "source": [
    "12.  Compare your polarity scores of your summaries to the polarity scores of the initial article.  Is there a difference?  Why do you think that may or may not be?.  Answer in this Markdown cell.  "
   ]
  },
  {
   "cell_type": "markdown",
   "metadata": {},
   "source": [
    "# Question 13"
   ]
  },
  {
   "cell_type": "markdown",
   "metadata": {},
   "source": [
    "13. Based on your reading of the original article, which summary do you think is better (if there's a difference).  Why do you think this might be?"
   ]
  }
 ],
 "metadata": {
  "kernelspec": {
   "display_name": "Python 3 (ipykernel)",
   "language": "python",
   "name": "python3"
  },
  "language_info": {
   "codemirror_mode": {
    "name": "ipython",
    "version": 3
   },
   "file_extension": ".py",
   "mimetype": "text/x-python",
   "name": "python",
   "nbconvert_exporter": "python",
   "pygments_lexer": "ipython3",
   "version": "3.9.12"
  }
 },
 "nbformat": 4,
 "nbformat_minor": 4
}
